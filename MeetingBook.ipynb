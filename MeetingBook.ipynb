{
 "cells": [
  {
   "cell_type": "code",
   "execution_count": 51,
   "metadata": {},
   "outputs": [
    {
     "ename": "IndentationError",
     "evalue": "unindent does not match any outer indentation level (<tokenize>, line 87)",
     "output_type": "error",
     "traceback": [
      "\u001b[0;36m  File \u001b[0;32m\"<tokenize>\"\u001b[0;36m, line \u001b[0;32m87\u001b[0m\n\u001b[0;31m    row = 0\u001b[0m\n\u001b[0m    ^\u001b[0m\n\u001b[0;31mIndentationError\u001b[0m\u001b[0;31m:\u001b[0m unindent does not match any outer indentation level\n"
     ]
    }
   ],
   "source": [
    "import xlwt\n",
    "import datetime\n",
    "import time\n",
    "import xlrd\n",
    "import json\n",
    "import pandas as pd\n",
    "\n",
    "class MeetingBook():\n",
    "    \n",
    "    def __init__(self):\n",
    "        \n",
    "        self.header = ['S.No.','Meeting_Room','ByWhom','Date','FromTime','ToTime','Time_Left']\n",
    "    \n",
    "    def wOrkbookCreation(self,inputDiction,book,sheet,row):\n",
    "        column = 0\n",
    "        global row\n",
    "        row_incremental = []\n",
    "        row += 1\n",
    "        #inputDiction['S.No.'] = row\n",
    "        for current_header in self.header:\n",
    "            sheet.write(0,column,current_header)\n",
    "            row_incremental.append(inputDiction.get(current_header))\n",
    "            column += 1\n",
    "        column = 0\n",
    "        status,dAtaFrame = self.dAtaTimeCompare(inputDiction)\n",
    "        dAtaFrame=self.uPcomingBooking(dAtaFrame)\n",
    "        if (status and (type(inputDiction['Time_Left']) != type(None))):\n",
    "            for current_row in row_incremental:\n",
    "                sheet.write(row,column,current_row)\n",
    "                column += 1\n",
    "        else:\n",
    "            return (\"Kindly choose a different booking\"),dAtaFrame\n",
    "        \n",
    "        book.save('/home/ashwin/Desktop/sample.xls')\n",
    "        return json.dumps(inputDiction),dAtaFrame       \n",
    "        \n",
    "    def tOJSonHandler(self,data_value):\n",
    "        pythonDictionay = {}\n",
    "        for (i,j) in zip(self.header,data_value):\n",
    "            pythonDictionay[i] = data_value[data_value.index(j)]\n",
    "        dictionToJson = json.dumps(pythonDictionay)        \n",
    "        return dictionToJson\n",
    "        \n",
    "    def jSonToPythonConverter(self,jsonData):\n",
    "        jSonToPython = json.loads(jsonData)\n",
    "        Time_Left = self.dAteTime(jSonToPython['Date'],jSonToPython['FromTime'])\n",
    "        jSonToPython['Time_Left'] = Time_Left\n",
    "        return jSonToPython\n",
    "\n",
    "    def uPcomingBooking(self,df):\n",
    "        df=df.sort_values(['Date','FromTime'],ascending=[True,True])\n",
    "        return df.drop_duplicates(['Meeting_Room'],keep='first')\n",
    "    \n",
    "    def dAtaTimeCompare(self,xlwriteDiction):\n",
    "        dAtaFrame = pd.read_excel('/home/ashwin/Desktop/sample.xls')\n",
    "        TimeFormat = '%I:%M %p'\n",
    "        dAtaFrame[['FromTime','ToTime']] = dAtaFrame[['FromTime','ToTime']].apply(pd.to_datetime,format=TimeFormat)\n",
    "        dAtaFrame['FromTime'] = dAtaFrame['FromTime'].dt.time\n",
    "        dAtaFrame['ToTime'] = dAtaFrame['ToTime'].dt.time\n",
    "        dAtaFrame['Date'] = pd.to_datetime(dAtaFrame['Date'],format='%Y/%m/%d').dt.date\n",
    "        FromTime = pd.to_datetime(xlwriteDiction['FromTime']).time()\n",
    "        ToTime = pd.to_datetime(xlwriteDiction['ToTime']).time()\n",
    "        Date = pd.to_datetime(xlwriteDiction['Date']).date()\n",
    "        dAtaFrame = dAtaFrame[(dAtaFrame['Date'] >= datetime.datetime.now().date())]\n",
    "        df = dAtaFrame[(dAtaFrame['Date']==Date) & (dAtaFrame['Meeting_Room'] == xlwriteDiction['Meeting_Room']) & (dAtaFrame['FromTime'].between(FromTime,ToTime,inclusive=True) | dAtaFrame['ToTime'].between(FromTime,ToTime,inclusive=True))]\n",
    "        if (df.shape[0]):\n",
    "            return False,dAtaFrame\n",
    "        else:\n",
    "            return True,dAtaFrame\n",
    "    \n",
    "    def dAteTime(self,Date='2017/06/01',FromTime='11:00 PM'):\n",
    "        DateTimeFormat = \"%Y/%m/%d %H:%M\"\n",
    "        now = datetime.datetime.now()\n",
    "        now = now.strftime(DateTimeFormat)\n",
    "        selected_date = datetime.datetime.strptime('{} {}'.format(Date,FromTime),\"%Y/%m/%d %I:%M %p\")\n",
    "        selected_date_srtf = selected_date.strftime(DateTimeFormat)\n",
    "        dateOfMeeting = datetime.datetime.strptime(selected_date_srtf,DateTimeFormat).date()\n",
    "        timedifference = datetime.datetime.strptime(selected_date_srtf,DateTimeFormat) - datetime.datetime.strptime(now,DateTimeFormat)\n",
    "        timedifference = int(round(timedifference.total_seconds()/60))\n",
    "        hour = timedifference // 60\n",
    "        minutes = timedifference % 60\n",
    "        if hour <= 0 and minutes >= 0:\n",
    "            return None\n",
    "        else:\n",
    "            return str(hour)+':'+str(minutes)\n",
    "        \n",
    "if __name__ == '__main__':\n",
    "    \n",
    "    \n",
    "    book = xlwt.Workbook()\n",
    "    sheet = self.book.add_sheet('sheet',cell_overwrite_ok=True)\n",
    "    meetingbook = MeetingBook()\n",
    "    jSonString = meetingbook.tOJSonHandler([3,'ODC-7','Ashwin','2018/08/10','05:30 AM','07:30 PM'])\n",
    "    pYthonDiction = meetingbook.jSonToPythonConverter(jSonString)\n",
    "    output=meetingbook.wOrkbookCreation(pYthonDiction,book,sheet)\n",
    "    print(output[0],'\\n',output[1])"
   ]
  },
  {
   "cell_type": "code",
   "execution_count": null,
   "metadata": {
    "collapsed": true
   },
   "outputs": [],
   "source": [
    "row = 0\n",
    "book = xlwt.Workbook()\n",
    "sheet = book.add_sheet('sheet',cell_overwrite_ok=True)\n",
    "header = ['S.No.','Meeting_Room','ByWhom','Date','FromTime','ToTime','Time_Left']\n",
    "\n",
    "def wOrkbookCreation(inputDiction):\n",
    "    global row\n",
    "    column = 0\n",
    "    row += 1\n",
    "    row_incremental = []\n",
    "    inputDiction['S.No.'] = row\n",
    "    for current_header in header:\n",
    "        sheet.write(0,column,current_header)\n",
    "        row_incremental.append(inputDiction.get(current_header))\n",
    "        column += 1\n",
    "    column = 0\n",
    "    status,dAtaFrame = dAtaTimeCompare(inputDiction)\n",
    "    print(status)\n",
    "    if (status and (type(inputDiction['Time_Left']) != type(None))):\n",
    "        print(row_incremental)\n",
    "        for current_row in row_incremental:\n",
    "            sheet.write(row,column,current_row)\n",
    "            column += 1\n",
    "    else:\n",
    "        return (\"Kindly choose a different booking\")\n",
    "    \n",
    "    dAtaFrame=uPcomingBooking(dAtaFrame)\n",
    "    book.save('/home/ashwin/Desktop/sample.xls')\n",
    "    return json.dumps(inputDiction),dAtaFrame"
   ]
  },
  {
   "cell_type": "code",
   "execution_count": 11,
   "metadata": {
    "collapsed": true
   },
   "outputs": [],
   "source": [
    "def tOJSonHandler(data_value):\n",
    "    pythonDictionay = {}\n",
    "    for (i,j) in zip(header,data_value):\n",
    "        pythonDictionay[i] = data_value[data_value.index(j)]\n",
    "    dictionaryToPython = json.dumps(pythonDictionay)        \n",
    "    return dictionToJson"
   ]
  },
  {
   "cell_type": "code",
   "execution_count": 105,
   "metadata": {
    "collapsed": true
   },
   "outputs": [],
   "source": [
    "def jSonToPythonConverter(jsonData):\n",
    "    jSonToPython = json.loads(jsonData)\n",
    "    Time_Left = dAteTime(jSonToPython['Date'],jSonToPython['FromTime'])\n",
    "    jSonToPython['Time_Left'] = Time_Left\n",
    "    return jSonToPython"
   ]
  },
  {
   "cell_type": "code",
   "execution_count": 112,
   "metadata": {
    "collapsed": true
   },
   "outputs": [],
   "source": [
    "xlwriteDiction=jSonToPythonConverter(tOJSonHandler([1,'ODC-3','Ashwin','2018/08/10','05:30 AM','07:30 PM']))"
   ]
  },
  {
   "cell_type": "code",
   "execution_count": 113,
   "metadata": {},
   "outputs": [
    {
     "name": "stdout",
     "output_type": "stream",
     "text": [
      "Empty DataFrame\n",
      "Columns: [S.No., Meeting_Room, ByWhom, Date, FromTime, ToTime, Time_Left]\n",
      "Index: []\n",
      "0\n",
      "True\n",
      "[4, 'ODC-3', 'Ashwin', '2018/08/10', '05:30 AM', '07:30 PM', '2152:58']\n"
     ]
    },
    {
     "data": {
      "text/plain": [
       "('{\"S.No.\": 4, \"Meeting_Room\": \"ODC-3\", \"ByWhom\": \"Ashwin\", \"Date\": \"2018/08/10\", \"FromTime\": \"05:30 AM\", \"ToTime\": \"07:30 PM\", \"Time_Left\": \"2152:58\"}',\n",
       "    S.No. Meeting_Room  ByWhom        Date  FromTime    ToTime Time_Left\n",
       " 1    2.0        ODC-1  Ashwin  2018-08-10  05:30:00  19:30:00   2152:59\n",
       " 2    3.0        ODC-2  Ashwin  2018-08-10  05:30:00  19:30:00   2152:58)"
      ]
     },
     "execution_count": 113,
     "metadata": {},
     "output_type": "execute_result"
    }
   ],
   "source": [
    "wOrkbookCreation(xlwriteDiction)"
   ]
  },
  {
   "cell_type": "code",
   "execution_count": 45,
   "metadata": {
    "collapsed": true
   },
   "outputs": [],
   "source": [
    "def uPcomingBooking(df):\n",
    "    df=df.sort_values(['Date','FromTime'],ascending=[True,True])\n",
    "    return df.drop_duplicates(['Meeting_Room'],keep='first')"
   ]
  },
  {
   "cell_type": "code",
   "execution_count": 95,
   "metadata": {
    "collapsed": true
   },
   "outputs": [],
   "source": [
    "def dAtaTimeCompare(xlwriteDiction):\n",
    "    dAtaFrame = pd.read_excel('/home/ashwin/Desktop/sample.xls')\n",
    "    TimeFormat = '%I:%M %p'\n",
    "    dAtaFrame[['FromTime','ToTime']] = dAtaFrame[['FromTime','ToTime']].apply(pd.to_datetime,format=TimeFormat)\n",
    "    dAtaFrame['FromTime'] = dAtaFrame['FromTime'].dt.time\n",
    "    dAtaFrame['ToTime'] = dAtaFrame['ToTime'].dt.time\n",
    "    dAtaFrame['Date'] = pd.to_datetime(dAtaFrame['Date'],format='%Y/%m/%d').dt.date\n",
    "    FromTime = pd.to_datetime(xlwriteDiction['FromTime']).time()\n",
    "    ToTime = pd.to_datetime(xlwriteDiction['ToTime']).time()\n",
    "    Date = pd.to_datetime(xlwriteDiction['Date']).date()\n",
    "    dAtaFrame = dAtaFrame[(dAtaFrame['Date'] >= datetime.datetime.now().date())]\n",
    "    df = dAtaFrame[(dAtaFrame['Date']==Date) & (dAtaFrame['Meeting_Room'] == xlwriteDiction['Meeting_Room']) & (dAtaFrame['FromTime'].between(FromTime,ToTime,inclusive=True) | dAtaFrame['ToTime'].between(FromTime,ToTime,inclusive=True))]\n",
    "    print(df)\n",
    "    print(df.shape[0])\n",
    "    if (df.shape[0]):\n",
    "        return False,dAtaFrame\n",
    "    else:\n",
    "        return True,dAtaFrame"
   ]
  },
  {
   "cell_type": "code",
   "execution_count": 44,
   "metadata": {
    "collapsed": true
   },
   "outputs": [],
   "source": [
    "def dAteTime(Date='2017/06/01',FromTime='11:00 PM'):\n",
    "    DateTimeFormat = \"%Y/%m/%d %H:%M\"\n",
    "    now = datetime.datetime.now()\n",
    "    now = now.strftime(DateTimeFormat)\n",
    "    selected_date = datetime.datetime.strptime('{} {}'.format(Date,FromTime),\"%Y/%m/%d %I:%M %p\")\n",
    "    selected_date_srtf = selected_date.strftime(DateTimeFormat)\n",
    "    dateOfMeeting = datetime.datetime.strptime(selected_date_srtf,DateTimeFormat).date()\n",
    "    timedifference = datetime.datetime.strptime(selected_date_srtf,DateTimeFormat) - datetime.datetime.strptime(now,DateTimeFormat)\n",
    "    timedifference = int(round(timedifference.total_seconds()/60))\n",
    "    hour = timedifference // 60\n",
    "    minutes = timedifference % 60\n",
    "    #return ('{} hours and {} minutes left for the meeting'.format(hour,minutes))\n",
    "    if hour <= 0 and minutes >= 0:\n",
    "        return None\n",
    "    else:\n",
    "        return str(hour)+':'+str(minutes)\n"
   ]
  },
  {
   "cell_type": "code",
   "execution_count": 9,
   "metadata": {},
   "outputs": [
    {
     "name": "stdout",
     "output_type": "stream",
     "text": [
      "<class 'NoneType'>\n",
      "<class 'NoneType'>\n"
     ]
    }
   ],
   "source": [
    "if not dAteTime():\n",
    "    print(type(None))\n",
    "    print(type(dAteTime()))"
   ]
  },
  {
   "cell_type": "code",
   "execution_count": 10,
   "metadata": {
    "collapsed": true
   },
   "outputs": [],
   "source": [
    "# app.run(host=HOST, port=PORT, threaded=True)"
   ]
  },
  {
   "cell_type": "code",
   "execution_count": 14,
   "metadata": {},
   "outputs": [
    {
     "data": {
      "text/plain": [
       "NoneType"
      ]
     },
     "execution_count": 14,
     "metadata": {},
     "output_type": "execute_result"
    }
   ],
   "source": [
    "type(xlwriteDiction['Time_Left'])"
   ]
  },
  {
   "cell_type": "code",
   "execution_count": 37,
   "metadata": {},
   "outputs": [
    {
     "name": "stdout",
     "output_type": "stream",
     "text": [
      "success\n"
     ]
    }
   ],
   "source": [
    "if (status and type(xlwriteDiction['Time_Left'])):\n",
    "    print('false')\n",
    "else:\n",
    "    print('success')"
   ]
  },
  {
   "cell_type": "code",
   "execution_count": 38,
   "metadata": {
    "collapsed": true
   },
   "outputs": [],
   "source": [
    "status = True"
   ]
  },
  {
   "cell_type": "code",
   "execution_count": null,
   "metadata": {
    "collapsed": true
   },
   "outputs": [],
   "source": []
  },
  {
   "cell_type": "code",
   "execution_count": null,
   "metadata": {
    "collapsed": true
   },
   "outputs": [],
   "source": []
  }
 ],
 "metadata": {
  "kernelspec": {
   "display_name": "Python 3",
   "language": "python",
   "name": "python3"
  },
  "language_info": {
   "codemirror_mode": {
    "name": "ipython",
    "version": 3
   },
   "file_extension": ".py",
   "mimetype": "text/x-python",
   "name": "python",
   "nbconvert_exporter": "python",
   "pygments_lexer": "ipython3",
   "version": "3.6.1"
  }
 },
 "nbformat": 4,
 "nbformat_minor": 2
}
